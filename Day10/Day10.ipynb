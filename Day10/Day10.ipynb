{
 "cells": [
  {
   "cell_type": "markdown",
   "metadata": {},
   "source": [
    "# Day 10: Hoof It"
   ]
  },
  {
   "cell_type": "markdown",
   "metadata": {},
   "source": [
    "## Part 1"
   ]
  },
  {
   "cell_type": "code",
   "execution_count": 47,
   "metadata": {},
   "outputs": [
    {
     "name": "stdout",
     "output_type": "stream",
     "text": [
      "The sum of the scores of all trailheads on my map is 744.\n"
     ]
    }
   ],
   "source": [
    "# Find trails starting from a certain position\n",
    "def find_trails(row, col, input):\n",
    "    # Start log and level at the first point\n",
    "    trails = [[(row, col)]]\n",
    "    level = int(input[row][col])\n",
    "    \n",
    "    # While there is a next step upward:\n",
    "    while trails[-1] != []:\n",
    "        \n",
    "        # Stores all the valid steps\n",
    "        next_level = []\n",
    "        \n",
    "        # For each coordinate on the previous level, check possible steps\n",
    "        for coords in trails[-1]:\n",
    "            \n",
    "            # Up\n",
    "            if (coords[0] > 0 and \n",
    "                int(input[coords[0] - 1][coords[1]]) == level + 1):\n",
    "                next_level.append((coords[0] - 1, coords[1]))\n",
    "            # Right    \n",
    "            if (coords[1] < (len(input[coords[0]]) - 1) and \n",
    "                int(input[coords[0]][coords[1] + 1]) == level + 1):\n",
    "                next_level.append((coords[0], coords[1] + 1))   \n",
    "            # Down\n",
    "            if (coords[0] < (len(input) - 1) and\n",
    "                int(input[coords[0] + 1][coords[1]]) == level + 1):\n",
    "                next_level.append((coords[0] + 1, coords[1]))\n",
    "            # Left\n",
    "            if (coords[1] > 0 and\n",
    "                int(input[coords[0]][coords[1] - 1]) == level + 1):\n",
    "                next_level.append((coords[0], coords[1] - 1))\n",
    "            \n",
    "        trails.append(next_level)\n",
    "        \n",
    "        level += 1\n",
    "    \n",
    "    # If the trail contained levels 0-9, and then an empty one\n",
    "    if len(trails) == 11:       \n",
    "        return len(list(set(trails[-2])))\n",
    "    else:\n",
    "        return 0\n",
    "\n",
    "# Open input\n",
    "with open(\"input.txt\", \"r\") as input:\n",
    "    input = input.read().split(\"\\n\")[:-1]\n",
    "\n",
    "# Initialize sum of trailhead scores\n",
    "trailhead_scores = 0\n",
    "\n",
    "# For each trailhead, find trails\n",
    "for row in range(len(input)):\n",
    "    for col in range(len(input[row])):\n",
    "        if input[row][col] == \"0\":\n",
    "            trailhead_scores += find_trails(row, col, input)\n",
    "\n",
    "# Print answer\n",
    "print(f\"The sum of the scores of all trailheads on my map is {trailhead_scores}.\")"
   ]
  },
  {
   "cell_type": "markdown",
   "metadata": {},
   "source": [
    "## Part 2"
   ]
  },
  {
   "cell_type": "code",
   "execution_count": 48,
   "metadata": {},
   "outputs": [
    {
     "name": "stdout",
     "output_type": "stream",
     "text": [
      "The sum of the scores of all trailheads on my map is 1651.\n"
     ]
    }
   ],
   "source": [
    "# Find trails starting from a certain position\n",
    "def find_trails(row, col, input):\n",
    "    # Start log and level at the first point\n",
    "    trails = [[(row, col)]]\n",
    "    level = int(input[row][col])\n",
    "    \n",
    "    # While there is a next step upward:\n",
    "    while trails[-1] != []:\n",
    "        \n",
    "        # Stores all the valid steps\n",
    "        next_level = []\n",
    "        \n",
    "        # For each coordinate on the previous level, check possible steps\n",
    "        for coords in trails[-1]:\n",
    "            \n",
    "            # Up\n",
    "            if (coords[0] > 0 and \n",
    "                int(input[coords[0] - 1][coords[1]]) == level + 1):\n",
    "                next_level.append((coords[0] - 1, coords[1]))\n",
    "            # Right    \n",
    "            if (coords[1] < (len(input[coords[0]]) - 1) and \n",
    "                int(input[coords[0]][coords[1] + 1]) == level + 1):\n",
    "                next_level.append((coords[0], coords[1] + 1))   \n",
    "            # Down\n",
    "            if (coords[0] < (len(input) - 1) and\n",
    "                int(input[coords[0] + 1][coords[1]]) == level + 1):\n",
    "                next_level.append((coords[0] + 1, coords[1]))\n",
    "            # Left\n",
    "            if (coords[1] > 0 and\n",
    "                int(input[coords[0]][coords[1] - 1]) == level + 1):\n",
    "                next_level.append((coords[0], coords[1] - 1))\n",
    "            \n",
    "        trails.append(next_level)\n",
    "        \n",
    "        level += 1\n",
    "    \n",
    "    # If the trail contained levels 0-9, and then an empty one\n",
    "    if len(trails) == 11:       \n",
    "        return len(trails[-2]) # PART 2! \n",
    "    else:\n",
    "        return 0\n",
    "\n",
    "# Open input\n",
    "with open(\"input.txt\", \"r\") as input:\n",
    "    input = input.read().split(\"\\n\")[:-1]\n",
    "\n",
    "# Initialize sum of trailhead scores\n",
    "trailhead_scores = 0\n",
    "\n",
    "# For each trailhead, find trails\n",
    "for row in range(len(input)):\n",
    "    for col in range(len(input[row])):\n",
    "        if input[row][col] == \"0\":\n",
    "            trailhead_scores += find_trails(row, col, input)\n",
    "\n",
    "# Print answer\n",
    "print(f\"The sum of the scores of all trailheads on my map is {trailhead_scores}.\")"
   ]
  }
 ],
 "metadata": {
  "kernelspec": {
   "display_name": "Python 3",
   "language": "python",
   "name": "python3"
  },
  "language_info": {
   "codemirror_mode": {
    "name": "ipython",
    "version": 3
   },
   "file_extension": ".py",
   "mimetype": "text/x-python",
   "name": "python",
   "nbconvert_exporter": "python",
   "pygments_lexer": "ipython3",
   "version": "3.12.2"
  }
 },
 "nbformat": 4,
 "nbformat_minor": 2
}
