{
 "cells": [
  {
   "cell_type": "markdown",
   "metadata": {},
   "source": [
    "# Day 5: Print Queue"
   ]
  },
  {
   "cell_type": "markdown",
   "metadata": {},
   "source": [
    "## Part 1"
   ]
  },
  {
   "cell_type": "code",
   "execution_count": null,
   "metadata": {},
   "outputs": [
    {
     "name": "stdout",
     "output_type": "stream",
     "text": [
      "If you add up the middle page numbers from the correctly-ordererd updates, you get: 6498.\n"
     ]
    }
   ],
   "source": [
    "# Open input\n",
    "with open(\"input.txt\", \"r\") as input:\n",
    "    input = input.read()\n",
    "\n",
    "# Split rules and pages sections\n",
    "rules = input.split(\"\\n\\n\")[0].split(\"\\n\")\n",
    "pages = input.split(\"\\n\\n\")[1].split(\"\\n\")[:-1]\n",
    "\n",
    "# Initiate rules dict\n",
    "rules_dict = {}\n",
    "\n",
    "# Fill the dict with x: set of numbers that cannot be before x\n",
    "for rule in rules:\n",
    "    if rule.split(\"|\")[0] in rules_dict.keys():\n",
    "        rules_dict[rule.split(\"|\")[0]] = rules_dict[rule.split(\"|\")[0]] | {rule.split(\"|\")[1]}\n",
    "    else:\n",
    "        rules_dict[rule.split(\"|\")[0]] = {rule.split(\"|\")[1]}\n",
    "\n",
    "# Initialize sum counter variable\n",
    "sum_of_mids = 0\n",
    "\n",
    "# Check for correctness\n",
    "for page in pages:\n",
    "    page = page.split(\",\")\n",
    "    correct = True\n",
    "    for i in range(1, len(page)):\n",
    "        if set(page[:i]) & rules_dict[page[i]]:\n",
    "            correct = False\n",
    "            break\n",
    "    if correct:\n",
    "        sum_of_mids += int(page[(int(len(page)/2))])\n",
    "\n",
    "# Print answer\n",
    "print(f\"If you add up the middle page numbers from the correctly-ordererd updates, you get: {sum_of_mids}.\")"
   ]
  },
  {
   "cell_type": "markdown",
   "metadata": {},
   "source": [
    "## Part 2"
   ]
  },
  {
   "cell_type": "code",
   "execution_count": null,
   "metadata": {},
   "outputs": [
    {
     "name": "stdout",
     "output_type": "stream",
     "text": [
      "If you add up the middle page numbers after reordering the previously incorrect updates, you get: 5017.\n"
     ]
    }
   ],
   "source": [
    "# Define function to check page for correctness\n",
    "def check_correct(page, rules_dict):\n",
    "    for i in range(1, len(page)):\n",
    "        if set(page[:i]) & rules_dict[page[i]]:\n",
    "            return [False, i]\n",
    "    return [True]\n",
    "\n",
    "# Open input\n",
    "with open(\"input.txt\", \"r\") as input:\n",
    "    input = input.read()\n",
    "\n",
    "# Split rules and pages sections\n",
    "rules = input.split(\"\\n\\n\")[0].split(\"\\n\")\n",
    "pages = input.split(\"\\n\\n\")[1].split(\"\\n\")[:-1]\n",
    "\n",
    "# Initiate rules dict\n",
    "rules_dict = {}\n",
    "\n",
    "# Fill the dict with x: set of numbers that cannot be before x\n",
    "for rule in rules:\n",
    "    if rule.split(\"|\")[0] in rules_dict.keys():\n",
    "        rules_dict[rule.split(\"|\")[0]] = rules_dict[rule.split(\"|\")[0]] | {rule.split(\"|\")[1]}\n",
    "    else:\n",
    "        rules_dict[rule.split(\"|\")[0]] = {rule.split(\"|\")[1]}\n",
    "\n",
    "# Initialize sum counter variable\n",
    "sum_of_mids = 0\n",
    "        \n",
    "# Check for correctness\n",
    "for page in pages:\n",
    "    page = page.split(\",\")\n",
    "    correct = check_correct(page, rules_dict)[0]\n",
    "    # Incorrect page:\n",
    "    if correct == False:      \n",
    "        while correct == False:\n",
    "            i = check_correct(page, rules_dict)[1] # Find number with incorrect ones placed before it\n",
    "            before = page[:i]\n",
    "            after = page[i:]     \n",
    "            # Place those wrong numbers after the selected number where the issue was found\n",
    "            for num in list(set(page[:i]) & rules_dict[page[i]]):\n",
    "                before.remove(num)\n",
    "                after = [after[0]] + [num] + after[1:]\n",
    "            page = before + after\n",
    "            # Re-check for correctness\n",
    "            correct = check_correct(page, rules_dict)[0]\n",
    "        # Add middle number of repaired page to total\n",
    "        sum_of_mids += int(page[(int(len(page)/2))])\n",
    "\n",
    "# Print answer\n",
    "print(f\"If you add up the middle page numbers after reordering the previously incorrect updates, you get: {sum_of_mids}.\")"
   ]
  }
 ],
 "metadata": {
  "kernelspec": {
   "display_name": "Python 3",
   "language": "python",
   "name": "python3"
  },
  "language_info": {
   "codemirror_mode": {
    "name": "ipython",
    "version": 3
   },
   "file_extension": ".py",
   "mimetype": "text/x-python",
   "name": "python",
   "nbconvert_exporter": "python",
   "pygments_lexer": "ipython3",
   "version": "3.12.2"
  }
 },
 "nbformat": 4,
 "nbformat_minor": 2
}
