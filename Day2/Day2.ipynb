{
 "cells": [
  {
   "cell_type": "markdown",
   "metadata": {},
   "source": [
    "# Day 2: Red-nosed Reports"
   ]
  },
  {
   "cell_type": "markdown",
   "metadata": {},
   "source": [
    "## Part 1"
   ]
  },
  {
   "cell_type": "code",
   "execution_count": null,
   "metadata": {},
   "outputs": [
    {
     "name": "stdout",
     "output_type": "stream",
     "text": [
      "There are 326 safe reports.\n"
     ]
    }
   ],
   "source": [
    "# Open input and store lines in list\n",
    "with open(\"input.txt\", \"r\") as input:\n",
    "    input = [line.strip().split(\" \") for line in input.read().split(\"\\n\")[:-1]]\n",
    "\n",
    "# Initialize safe variable\n",
    "safe = 0\n",
    "\n",
    "# Literal interpretation\n",
    "for line in input:\n",
    "    # Calculate the differences between subsequent numbers\n",
    "    diffs = [(int(line[i]) - int(line[i-1])) for i in range(1, len(line))]\n",
    "    # Assume safe until proven unsafe\n",
    "    safeline = True\n",
    "    # If ascending start\n",
    "    if diffs[0] > 0:\n",
    "        for num in diffs:\n",
    "            if num not in range(1, 4):\n",
    "                safeline = False\n",
    "                break\n",
    "    # Descending start\n",
    "    elif  diffs[0] < 0:\n",
    "        for num in diffs:\n",
    "            if num not in range(-3, 0):\n",
    "                safeline = False\n",
    "                break\n",
    "    # 1 and 2 are the same\n",
    "    else:\n",
    "        safeline = False\n",
    "        \n",
    "    if safeline:\n",
    "        safe += 1\n",
    "\n",
    "# Print answer\n",
    "print(f\"There are {safe} safe reports.\")"
   ]
  },
  {
   "cell_type": "markdown",
   "metadata": {},
   "source": [
    "## Part 2"
   ]
  },
  {
   "cell_type": "code",
   "execution_count": null,
   "metadata": {},
   "outputs": [
    {
     "name": "stdout",
     "output_type": "stream",
     "text": [
      "There now are 381 safe reports.\n"
     ]
    }
   ],
   "source": [
    "# Open input and store lines in list\n",
    "with open(\"input.txt\", \"r\") as input:\n",
    "    input = [line.strip().split(\" \") for line in input.read().split(\"\\n\")[:-1]]\n",
    "\n",
    "# Initialize safe variable\n",
    "safe = 0\n",
    "\n",
    "# Literal interpretation\n",
    "def isSafe(line):\n",
    "    # Calculate the differences between subsequent numbers\n",
    "    diffs = [(int(line[i]) - int(line[i-1])) for i in range(1, len(line))]\n",
    "    # If ascending start\n",
    "    if diffs[0] > 0:\n",
    "        for num in diffs:\n",
    "            if num not in range(1, 4):\n",
    "                return False\n",
    "    # Descending start\n",
    "    elif  diffs[0] < 0:\n",
    "        for num in diffs:\n",
    "            if num not in range(-3, 0):\n",
    "                return False\n",
    "    # 1 and 2 are the same\n",
    "    else:\n",
    "        return False\n",
    "\n",
    "    return True\n",
    "\n",
    "# Check initial safety\n",
    "for line in input:\n",
    "    if isSafe(line):\n",
    "        safe += 1\n",
    "    else:\n",
    "        # Remove elements one by one and check again\n",
    "        for j in range(len(line)):\n",
    "            trunc_line = line[:j] + line[j+1:]\n",
    "            if isSafe(trunc_line):\n",
    "                safe += 1\n",
    "                break\n",
    "            \n",
    "# Print answer\n",
    "print(f\"There now are {safe} safe reports.\")"
   ]
  }
 ],
 "metadata": {
  "kernelspec": {
   "display_name": "Python 3",
   "language": "python",
   "name": "python3"
  },
  "language_info": {
   "codemirror_mode": {
    "name": "ipython",
    "version": 3
   },
   "file_extension": ".py",
   "mimetype": "text/x-python",
   "name": "python",
   "nbconvert_exporter": "python",
   "pygments_lexer": "ipython3",
   "version": "3.12.2"
  }
 },
 "nbformat": 4,
 "nbformat_minor": 2
}
