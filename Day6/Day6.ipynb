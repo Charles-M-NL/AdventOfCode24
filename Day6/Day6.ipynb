{
 "cells": [
  {
   "cell_type": "markdown",
   "metadata": {},
   "source": [
    "# Day 6: Guard Gallivant"
   ]
  },
  {
   "cell_type": "markdown",
   "metadata": {},
   "source": [
    "## Part 1"
   ]
  },
  {
   "cell_type": "code",
   "execution_count": 60,
   "metadata": {},
   "outputs": [
    {
     "name": "stdout",
     "output_type": "stream",
     "text": [
      "The guard will visit 5153 positions before leaving the mapped area\n"
     ]
    }
   ],
   "source": [
    "# Open input\n",
    "with open(\"input.txt\", \"r\") as input:\n",
    "    input = input.read().strip().split(\"\\n\")\n",
    "\n",
    "# Define steps and direction turns\n",
    "step = {\"^\": [-1, 0], \">\": [0, 1], \"<\": [0, -1], \"v\": [1, 0]}\n",
    "turn = {\"^\": \">\", \">\": \"v\", \"v\": \"<\", \"<\": \"^\"}\n",
    "\n",
    "# Initialize initial direction and guard coordinates\n",
    "direction = \"\"\n",
    "guard_x, guard_y = \"\", \"\"\n",
    "\n",
    "# Find the guard's initial position\n",
    "for x in range(len(input)):\n",
    "    if direction == \"\":\n",
    "        for y in range(len(input[x])):\n",
    "            if input[x][y] in step.keys():\n",
    "                direction = input[x][y]\n",
    "                guard_x, guard_y = x, y\n",
    "                break\n",
    "\n",
    "# Keep track of visited positions\n",
    "visited_positions = []\n",
    "\n",
    "# If the guard is still on the map, update its position and add it to the list\n",
    "while (0 <= guard_x < len(input)) and (0 <= guard_y < len(input[guard_x])):\n",
    "    visited_positions.append((guard_x, guard_y))\n",
    "    \n",
    "    new_x = guard_x + step[direction][0]\n",
    "    new_y = guard_y + step[direction][1]\n",
    "    \n",
    "    if ((0 <= new_x < len(input)) and (0 <= new_y < len(input[guard_x]))) and \\\n",
    "        input[new_x][new_y] == \"#\": \n",
    "        direction = turn[direction]\n",
    "    else:\n",
    "        guard_x, guard_y = new_x, new_y\n",
    "\n",
    "# Print the amount of unique positions the guard visited\n",
    "print(f\"The guard will visit {len(set(visited_positions))} positions before leaving the mapped area\")"
   ]
  },
  {
   "cell_type": "markdown",
   "metadata": {},
   "source": [
    "## Part 2"
   ]
  },
  {
   "cell_type": "code",
   "execution_count": 59,
   "metadata": {},
   "outputs": [
    {
     "name": "stderr",
     "output_type": "stream",
     "text": [
      "100%|██████████| 5153/5153 [11:16<00:00,  7.62it/s]"
     ]
    },
    {
     "name": "stdout",
     "output_type": "stream",
     "text": [
      "You could choose 1711 different positions for the obstruction.\n"
     ]
    },
    {
     "name": "stderr",
     "output_type": "stream",
     "text": [
      "\n"
     ]
    }
   ],
   "source": [
    "from tqdm import tqdm\n",
    "\n",
    "# Open input\n",
    "with open(\"input.txt\", \"r\") as input:\n",
    "    input = input.read().strip().split(\"\\n\")\n",
    "\n",
    "# Define steps and direction turns\n",
    "step = {\"^\": [-1, 0], \">\": [0, 1], \"<\": [0, -1], \"v\": [1, 0]}\n",
    "turn = {\"^\": \">\", \">\": \"v\", \"v\": \"<\", \"<\": \"^\"}\n",
    "\n",
    "# Initialize initial direction and guard coordinates\n",
    "direction = \"\"\n",
    "guard_x, guard_y = \"\", \"\"\n",
    "\n",
    "# Find the guard's initial position\n",
    "for x in range(len(input)):\n",
    "    if direction == \"\":\n",
    "        for y in range(len(input[x])):\n",
    "            if input[x][y] in step.keys():\n",
    "                direction = input[x][y]\n",
    "                guard_x, guard_y = x, y\n",
    "                break\n",
    "\n",
    "# Keep track of visited positions\n",
    "visited_positions = []\n",
    "\n",
    "# Remember starting direction for later\n",
    "starting_direction = direction\n",
    "\n",
    "# If the guard is still on the map, update its position and add it to the list\n",
    "while (0 <= guard_x < len(input)) and (0 <= guard_y < len(input[guard_x])):\n",
    "    visited_positions.append((guard_x, guard_y))\n",
    "    \n",
    "    new_x = guard_x + step[direction][0]\n",
    "    new_y = guard_y + step[direction][1]\n",
    "    \n",
    "    if ((0 <= new_x < len(input)) and (0 <= new_y < len(input[guard_x]))) and \\\n",
    "        input[new_x][new_y] == \"#\": \n",
    "        direction = turn[direction]\n",
    "    else:\n",
    "        guard_x, guard_y = new_x, new_y\n",
    "\n",
    "# Initialize obstruction counter\n",
    "obstructions = 0\n",
    "\n",
    "# Define unique positions in the path and remove starting position\n",
    "obstruction_locs = list(set(visited_positions))\n",
    "\n",
    "# For each spot in the path, pretend there is an obstruction\n",
    "for obst_loc in tqdm(obstruction_locs):\n",
    "    \n",
    "    # Keep track of the steps (start, end), to stop when there is a repeat.\n",
    "    full_steps = []\n",
    "    # Place the guard at the starting position\n",
    "    guard_x, guard_y = visited_positions[0][0], visited_positions[0][1]\n",
    "    # Turn them the right way\n",
    "    direction = starting_direction\n",
    "    # While the guard is on the map\n",
    "    while (0 <= guard_x < len(input)) and (0 <= guard_y < len(input[guard_x])):\n",
    "        \n",
    "        # Find the next coords\n",
    "        new_x = guard_x + step[direction][0]\n",
    "        new_y = guard_y + step[direction][1]\n",
    "        \n",
    "        # Check whether there is an obstruction in the path\n",
    "        if ((0 <= new_x < len(input)) and (0 <= new_y < len(input[guard_x]))) and \\\n",
    "        (input[new_x][new_y] == \"#\" or (new_x, new_y) == obst_loc): \n",
    "            direction = turn[direction]\n",
    "        else:\n",
    "            # If they have walked this way before\n",
    "            if (guard_x, guard_y, new_x, new_y) in full_steps:\n",
    "                obstructions += 1 \n",
    "                guard_x, guard_y = -1, -1 # Stop walking\n",
    "            else:\n",
    "                full_steps.append((guard_x, guard_y, new_x, new_y))\n",
    "                guard_x, guard_y = new_x, new_y\n",
    "\n",
    "# Print solution\n",
    "print(f\"You could choose {obstructions} different positions for the obstruction.\")"
   ]
  }
 ],
 "metadata": {
  "kernelspec": {
   "display_name": "Python 3",
   "language": "python",
   "name": "python3"
  },
  "language_info": {
   "codemirror_mode": {
    "name": "ipython",
    "version": 3
   },
   "file_extension": ".py",
   "mimetype": "text/x-python",
   "name": "python",
   "nbconvert_exporter": "python",
   "pygments_lexer": "ipython3",
   "version": "3.12.2"
  }
 },
 "nbformat": 4,
 "nbformat_minor": 2
}
