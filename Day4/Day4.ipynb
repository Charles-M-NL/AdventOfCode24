{
 "cells": [
  {
   "cell_type": "markdown",
   "metadata": {},
   "source": [
    "# Day 4: Ceres search"
   ]
  },
  {
   "cell_type": "markdown",
   "metadata": {},
   "source": [
    "## Part 1"
   ]
  },
  {
   "cell_type": "code",
   "execution_count": 1,
   "metadata": {},
   "outputs": [
    {
     "name": "stdout",
     "output_type": "stream",
     "text": [
      "XMAS appears 2462 times.\n"
     ]
    }
   ],
   "source": [
    "# Function to feed strings which counts the occurences of XMAS in both directions\n",
    "def update_count(a_string):\n",
    "    count = 0\n",
    "    for i in range(len(a_string)):\n",
    "        if a_string[i:i+4] == \"XMAS\":\n",
    "            count += 1\n",
    "        if a_string[::-1][i:i+4] == \"XMAS\":\n",
    "            count+= 1\n",
    "    return count\n",
    "\n",
    "# Open input and store lines in list\n",
    "with open(\"input.txt\", \"r\") as input:\n",
    "    input = input.read().split(\"\\n\")[:-1]\n",
    "\n",
    "# Initialize Xmas-counter\n",
    "xmas_count = 0\n",
    "\n",
    "# Horizontal\n",
    "for line in input:\n",
    "        xmas_count += update_count(line)\n",
    "\n",
    "# Vertical\n",
    "for i in range(len(input[0])):\n",
    "    line = \"\".join([chars[i] for chars in input])\n",
    "    xmas_count += update_count(line)\n",
    "    \n",
    "# Diagonal NW-SE\n",
    "for i in range(len(input[0])):\n",
    "    line = 0\n",
    "    text = \"\"\n",
    "    while i < len(input[0]) and line < len(input):\n",
    "        text += input[line][i]\n",
    "        i += 1\n",
    "        line = line + 1\n",
    "    xmas_count += update_count(text)         \n",
    "\n",
    "# Diagonal SW-NE\n",
    "for i in range(len(input[0])):\n",
    "    line = 0\n",
    "    text = \"\"\n",
    "    while i < len(input[0]) and line < len(input):\n",
    "        text += input[::-1][line][i]\n",
    "        i += 1\n",
    "        line += 1\n",
    "    xmas_count += update_count(text) \n",
    "\n",
    "# Diagonal NE-SW\n",
    "for i in range(1, len(input[0])):\n",
    "    line = 0\n",
    "    text = \"\"\n",
    "    while i < len(input[0]) and line < len(input):\n",
    "        text += input[line][::-1][i]\n",
    "        i += 1\n",
    "        line += 1\n",
    "    xmas_count += update_count(text) \n",
    "\n",
    "# Diagonal SE-NW\n",
    "for i in range(1, len(input[0])):\n",
    "    line = 0\n",
    "    text = \"\"\n",
    "    while i < len(input[0]) and line < len(input):\n",
    "        text += input[::-1][line][::-1][i]\n",
    "        i += 1\n",
    "        line += 1\n",
    "    xmas_count += update_count(text) \n",
    "\n",
    "# Print answer \n",
    "print(f\"XMAS appears {xmas_count} times.\")"
   ]
  },
  {
   "cell_type": "markdown",
   "metadata": {},
   "source": [
    "## Part 2"
   ]
  },
  {
   "cell_type": "code",
   "execution_count": 2,
   "metadata": {},
   "outputs": [
    {
     "name": "stdout",
     "output_type": "stream",
     "text": [
      "X-MAS appears 1877 times.\n"
     ]
    }
   ],
   "source": [
    "# Open input and store lines in list\n",
    "with open(\"input.txt\", \"r\") as input:\n",
    "    input = input.read().split(\"\\n\")[:-1]\n",
    "\n",
    "# Initialize X-MAS counter\n",
    "x_mas_count = 0\n",
    "\n",
    "# Find 'A' in the grid and check surrounding letters\n",
    "for x in range(1, len(input)- 1):\n",
    "    for y in range(1, len(input[0]) - 1):\n",
    "        if input[x][y] == 'A':\n",
    "            if input[x-1][y-1] + input[x+1][y+1] in [\"MS\", \"SM\"]: \n",
    "                if input[x-1][y+1] + input[x+1][y-1] in [\"MS\", \"SM\"]: \n",
    "                    x_mas_count += 1\n",
    "\n",
    "# Print answer\n",
    "print(f\"X-MAS appears {x_mas_count} times.\")"
   ]
  }
 ],
 "metadata": {
  "kernelspec": {
   "display_name": "Python 3",
   "language": "python",
   "name": "python3"
  },
  "language_info": {
   "codemirror_mode": {
    "name": "ipython",
    "version": 3
   },
   "file_extension": ".py",
   "mimetype": "text/x-python",
   "name": "python",
   "nbconvert_exporter": "python",
   "pygments_lexer": "ipython3",
   "version": "3.12.2"
  }
 },
 "nbformat": 4,
 "nbformat_minor": 2
}
