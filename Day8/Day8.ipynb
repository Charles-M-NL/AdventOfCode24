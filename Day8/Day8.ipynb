{
 "cells": [
  {
   "cell_type": "markdown",
   "metadata": {},
   "source": [
    "# Day 8: Resonant Collinearity"
   ]
  },
  {
   "cell_type": "markdown",
   "metadata": {},
   "source": [
    "## Part 1"
   ]
  },
  {
   "cell_type": "code",
   "execution_count": 29,
   "metadata": {},
   "outputs": [
    {
     "name": "stdout",
     "output_type": "stream",
     "text": [
      "381 unique locations within the bounds of the map contain an antinode.\n"
     ]
    }
   ],
   "source": [
    "# Read input\n",
    "with open(\"input.txt\", \"r\") as input:\n",
    "    input = input.read().split(\"\\n\")[:-1]\n",
    "\n",
    "# Find all different frequencies\n",
    "freqs = list(set(\"\".join([line.replace(\".\", \"\") for line in input])))\n",
    "\n",
    "# Initialize Antinode location set\n",
    "antinode_locs = set()\n",
    "\n",
    "for freq in freqs: \n",
    "    # Find all antennas with the same frequency\n",
    "    freq_coords = []\n",
    "    for y in range(len(input)):\n",
    "        for x in range(len(input[y])):\n",
    "            if input[x][y] == freq:\n",
    "                freq_coords.append((x, y))\n",
    "    \n",
    "    # For each pair of antennas, calculate the locations of their antinodes\n",
    "    for i in range(len(freq_coords[:-1])):\n",
    "        for j in range(i + 1, len(freq_coords)):\n",
    "            anti_1_x = freq_coords[i][0] + (freq_coords[i][0] - freq_coords[j][0])\n",
    "            anti_1_y = freq_coords[i][1] + (freq_coords[i][1] - freq_coords[j][1])\n",
    "            anti_2_x = freq_coords[i][0] - 2*(freq_coords[i][0] - freq_coords[j][0])\n",
    "            anti_2_y = freq_coords[i][1] - 2*(freq_coords[i][1] - freq_coords[j][1])\n",
    "            \n",
    "            # Check whether the antinode is within the bounds of the grid\n",
    "            if (0 <= anti_1_x < len(input)) and (0 <= anti_1_y < len(input[anti_1_x])):\n",
    "                antinode_locs.add((anti_1_x, anti_1_y))\n",
    "            if (0 <= anti_2_x < len(input)) and (0 <= anti_2_y < len(input[anti_2_x])):\n",
    "                antinode_locs.add((anti_2_x, anti_2_y))\n",
    "\n",
    "# Print solution\n",
    "print(f\"{len(antinode_locs)} unique locations within the bounds of the map contain an antinode.\")   "
   ]
  },
  {
   "cell_type": "markdown",
   "metadata": {},
   "source": [
    "## Part 2"
   ]
  },
  {
   "cell_type": "code",
   "execution_count": 30,
   "metadata": {},
   "outputs": [
    {
     "name": "stdout",
     "output_type": "stream",
     "text": [
      "1184 unique locations within the bounds of the map now contain an antinode.\n"
     ]
    }
   ],
   "source": [
    "# Read input\n",
    "with open(\"input.txt\", \"r\") as input:\n",
    "    input = input.read().split(\"\\n\")[:-1]\n",
    "\n",
    "# Find all different frequencies\n",
    "freqs = list(set(\"\".join([line.replace(\".\", \"\") for line in input])))\n",
    "\n",
    "# Initialize Antinode location set\n",
    "antinode_locs = set()\n",
    "\n",
    "for freq in freqs: \n",
    "    # Find all antennas with the same frequency\n",
    "    freq_coords = []\n",
    "    for y in range(len(input)):\n",
    "        for x in range(len(input[y])):\n",
    "            if input[x][y] == freq:\n",
    "                freq_coords.append((x, y))\n",
    "\n",
    "    # For each pair of antennas, calculate the locations of their antinodes\n",
    "    for i in range(len(freq_coords[:-1])):\n",
    "        for j in range(i + 1, len(freq_coords)):\n",
    "            mult = 0 # Starts by counting itself as an antinode\n",
    "            out_of_bounds = False\n",
    "            \n",
    "            while not out_of_bounds:\n",
    "                # Find the next antinode in line with the two antennas\n",
    "                anti_x = freq_coords[i][0] + mult*(freq_coords[i][0] - freq_coords[j][0])\n",
    "                anti_y = freq_coords[i][1] + mult*(freq_coords[i][1] - freq_coords[j][1])\n",
    "                \n",
    "                # Check whether the antinode is within the bounds of the grid\n",
    "                if (0 <= anti_x < len(input)) and (0 <= anti_y < len(input[anti_1_x])):\n",
    "                    antinode_locs.add((anti_x, anti_y))\n",
    "                    mult += 1 # Continue to the next one\n",
    "                else: \n",
    "                    out_of_bounds = True # The line ends\n",
    "\n",
    "            # Same principle, but in the other direction\n",
    "            mult = -1\n",
    "            out_of_bounds = False\n",
    "            \n",
    "            while not out_of_bounds:\n",
    "                anti_x = freq_coords[i][0] + mult*(freq_coords[i][0] - freq_coords[j][0])\n",
    "                anti_y = freq_coords[i][1] + mult*(freq_coords[i][1] - freq_coords[j][1])\n",
    "                \n",
    "                # Check whether the antinode is within the bounds of the grid\n",
    "                if (0 <= anti_x < len(input)) and (0 <= anti_y < len(input[anti_1_x])):\n",
    "                    antinode_locs.add((anti_x, anti_y))\n",
    "                    mult -= 1\n",
    "                else: \n",
    "                    out_of_bounds = True\n",
    "                \n",
    "\n",
    "# Print solution\n",
    "print(f\"{len(antinode_locs)} unique locations within the bounds of the map now contain an antinode.\")  "
   ]
  }
 ],
 "metadata": {
  "kernelspec": {
   "display_name": "Python 3",
   "language": "python",
   "name": "python3"
  },
  "language_info": {
   "codemirror_mode": {
    "name": "ipython",
    "version": 3
   },
   "file_extension": ".py",
   "mimetype": "text/x-python",
   "name": "python",
   "nbconvert_exporter": "python",
   "pygments_lexer": "ipython3",
   "version": "3.12.2"
  }
 },
 "nbformat": 4,
 "nbformat_minor": 2
}
