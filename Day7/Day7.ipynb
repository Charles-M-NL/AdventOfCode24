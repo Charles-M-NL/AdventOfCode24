{
 "cells": [
  {
   "cell_type": "markdown",
   "metadata": {},
   "source": [
    "# Day 7: Bridge Repair"
   ]
  },
  {
   "cell_type": "markdown",
   "metadata": {},
   "source": [
    "## Part 1"
   ]
  },
  {
   "cell_type": "code",
   "execution_count": 24,
   "metadata": {},
   "outputs": [
    {
     "name": "stdout",
     "output_type": "stream",
     "text": [
      "The total calibration result is 6231007345478.\n"
     ]
    }
   ],
   "source": [
    "# Open input\n",
    "with open(\"input.txt\", \"r\") as input:\n",
    "    input = input.read().strip().split(\"\\n\")\n",
    "\n",
    "# Initialize total variable\n",
    "total = 0\n",
    "\n",
    "# For each line: split the result and the rest\n",
    "for line in input:\n",
    "    result = int(line.split(\":\")[0])\n",
    "    nums = [int(num) for num in line.split(\" \")[1:]]\n",
    "    \n",
    "    # Store intermediary values in dictionary while going from left to right\n",
    "    some_dict = {1: [nums[0]]}\n",
    "    step = 1\n",
    "    \n",
    "    for i in nums[1:]:\n",
    "        some_dict[step+1] = []\n",
    "        for inter in some_dict[step]:\n",
    "            if inter <= result:\n",
    "                some_dict[step+1].append(inter * i)\n",
    "                some_dict[step+1].append(inter + i)\n",
    "        step += 1\n",
    "\n",
    "    if result in some_dict[step]:\n",
    "        total += result \n",
    "\n",
    "# Print solution\n",
    "print(f\"The total calibration result is {total}.\")                "
   ]
  },
  {
   "cell_type": "markdown",
   "metadata": {},
   "source": [
    "## Part 2"
   ]
  },
  {
   "cell_type": "code",
   "execution_count": 26,
   "metadata": {},
   "outputs": [
    {
     "name": "stdout",
     "output_type": "stream",
     "text": [
      "The total calibration result is now 333027885676693.\n"
     ]
    }
   ],
   "source": [
    "# Open input\n",
    "with open(\"input.txt\", \"r\") as input:\n",
    "    input = input.read().strip().split(\"\\n\")\n",
    "\n",
    "# Initialize total variable\n",
    "total = 0\n",
    "\n",
    "# For each line: split the result and the rest\n",
    "for line in input:\n",
    "    result = int(line.split(\":\")[0])\n",
    "    nums = [int(num) for num in line.split(\" \")[1:]]\n",
    "    \n",
    "    # Store intermediary values in dictionary while going from left to right\n",
    "    some_dict = {1: [nums[0]]}\n",
    "    step = 1\n",
    "    \n",
    "    for i in nums[1:]:\n",
    "        some_dict[step+1] = []\n",
    "        for inter in some_dict[step]:\n",
    "            if inter <= result:\n",
    "                some_dict[step+1].append(inter * i)\n",
    "                some_dict[step+1].append(inter + i)\n",
    "                some_dict[step+1].append(int(str(inter) + str(i)))\n",
    "        step += 1\n",
    "\n",
    "    if result in some_dict[step]:\n",
    "        total += result \n",
    "\n",
    "# Print solution\n",
    "print(f\"The total calibration result is now {total}.\") "
   ]
  }
 ],
 "metadata": {
  "kernelspec": {
   "display_name": "Python 3",
   "language": "python",
   "name": "python3"
  },
  "language_info": {
   "codemirror_mode": {
    "name": "ipython",
    "version": 3
   },
   "file_extension": ".py",
   "mimetype": "text/x-python",
   "name": "python",
   "nbconvert_exporter": "python",
   "pygments_lexer": "ipython3",
   "version": "3.12.2"
  }
 },
 "nbformat": 4,
 "nbformat_minor": 2
}
