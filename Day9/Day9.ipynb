{
 "cells": [
  {
   "cell_type": "markdown",
   "metadata": {},
   "source": [
    "# Day 8: Disk Fragmenter"
   ]
  },
  {
   "cell_type": "markdown",
   "metadata": {},
   "source": [
    "## Part 1"
   ]
  },
  {
   "cell_type": "code",
   "execution_count": null,
   "metadata": {},
   "outputs": [
    {
     "name": "stdout",
     "output_type": "stream",
     "text": [
      "The resulting filesystem checksum is 6349606724455.\n"
     ]
    }
   ],
   "source": [
    "# Open input\n",
    "with open(\"input.txt\", \"r\") as input:\n",
    "    input = input.read().strip()\n",
    "\n",
    "# Initialize block list and block_id variables\n",
    "blocks = []\n",
    "block_id = 0\n",
    "\n",
    "# Create the block list x...y..z\n",
    "for i in range(len(input)):\n",
    "    if i % 2 == 0:\n",
    "        for j in range(int(input[i])):\n",
    "            blocks.append(block_id)\n",
    "        block_id += 1\n",
    "    else:\n",
    "        for k in range(int(input[i])):\n",
    "            blocks.append(\".\")\n",
    "\n",
    "# Rearrange the blocks\n",
    "while \".\" in blocks:\n",
    "    if blocks[-1] != \".\":\n",
    "        blocks = blocks[:-1]\n",
    "    else:\n",
    "        for m in range(len(blocks)):\n",
    "            if blocks[m] == \".\":\n",
    "                blocks[m] = blocks[-1]\n",
    "                blocks = blocks[:-1]\n",
    "                break\n",
    "\n",
    "# Calculate the checksum\n",
    "checksum = sum([i * blocks[i] for i in range(len(blocks))])\n",
    "\n",
    "# Print solution\n",
    "print(f\"The resulting filesystem checksum is {checksum}.\")"
   ]
  },
  {
   "cell_type": "markdown",
   "metadata": {},
   "source": [
    "## Part 2"
   ]
  },
  {
   "cell_type": "code",
   "execution_count": 87,
   "metadata": {},
   "outputs": [
    {
     "name": "stdout",
     "output_type": "stream",
     "text": [
      "The resulting filesystem checksum is 6376648986651.\n"
     ]
    }
   ],
   "source": [
    "# Open input\n",
    "with open(\"input.txt\", \"r\") as input:\n",
    "    input = input.read().strip()\n",
    "    \n",
    "# Initialize block list and block_id variables\n",
    "blocks = []\n",
    "block_id = 0\n",
    "\n",
    "# Create the block list x...y..z\n",
    "for i in range(len(input)):\n",
    "    if i % 2 == 0:\n",
    "        for j in range(int(input[i])):\n",
    "            blocks.append(str(block_id))\n",
    "        block_id += 1\n",
    "    else:\n",
    "        for k in range(int(input[i])):\n",
    "            blocks.append(\".\")\n",
    "\n",
    "# Set block_id to highest in list\n",
    "block_id = str(int(block_id) - 1)\n",
    "\n",
    "while block_id != \"-1\":\n",
    "    # Find the numbers in the list    \n",
    "    start = blocks.index(str(block_id))\n",
    "    end = len(blocks) - 1 - blocks[::-1].index(str(block_id))\n",
    "    \n",
    "    # Find first occurence of large enough sequence of dots \n",
    "    for l in range(len(blocks[:start])):\n",
    "        if blocks[l:l+(end-start) + 1] == [\".\"]*(end-start+1):\n",
    "            # Reconstruct the blocks list. The dots and numbers are swapped.\n",
    "            blocks = blocks[:l] + \\\n",
    "            blocks[start:(end + 1)] + \\\n",
    "            blocks[l + (end - start) + 1:start] + \\\n",
    "            [\".\" for l in range(end-start + 1)] + \\\n",
    "            blocks[end+1:]\n",
    "            break\n",
    "            \n",
    "    block_id = str(int(block_id) - 1)\n",
    "    \n",
    "    \n",
    "# Calculate the checksum\n",
    "checksum = 0\n",
    "for m in range(len(blocks)):\n",
    "    if blocks[m] != \".\":\n",
    "        checksum += int(blocks[m]) * m\n",
    "\n",
    "# Print solution\n",
    "print(f\"The resulting filesystem checksum is {checksum}.\")"
   ]
  }
 ],
 "metadata": {
  "kernelspec": {
   "display_name": "Python 3",
   "language": "python",
   "name": "python3"
  },
  "language_info": {
   "codemirror_mode": {
    "name": "ipython",
    "version": 3
   },
   "file_extension": ".py",
   "mimetype": "text/x-python",
   "name": "python",
   "nbconvert_exporter": "python",
   "pygments_lexer": "ipython3",
   "version": "3.12.2"
  }
 },
 "nbformat": 4,
 "nbformat_minor": 2
}
